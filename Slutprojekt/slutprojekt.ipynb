{
 "cells": [
  {
   "cell_type": "code",
   "execution_count": null,
   "metadata": {},
   "outputs": [],
   "source": []
  },
  {
   "cell_type": "markdown",
   "metadata": {},
   "source": [
    "### Projektbeskrivning för Maskininlärning: Identifiering av LEGO-bitar från Bilder\n",
    "\n",
    "#### Problemformulering\n",
    "Projektets mål är att utveckla en maskininlärningsmodell som kan identifiera och klassificera olika LEGO-bitar från bilder. Modellen kommer inte att användas i realtid, utan snarare för att analysera statiska bilder. Detta tillvägagångssätt tillåter en noggrann analys och klassificering av LEGO-bitar, vilket kan vara värdefullt för både privatpersoner och organisationer som önskar sortera och inventera sina LEGO-samlingar.\n",
    "\n",
    "#### Datasamling\n",
    "Vi kommer att utforska följande befintliga datasets för att hitta bilder på LEGO-bitar med tillhörande etiketter:\n",
    "\n",
    "1. **Kaggle - Biggest LEGO Dataset**: En omfattande samling av LEGO-bilder som kan användas för att träna en robust modell.\n",
    "2. **Kaggle - Images of LEGO Bricks**: 40 000 bilder av LEGO-bitar som kan vara användbara för att utöka träningsdatan.\n",
    "3. **GitHub - LEGO Challenge Dataset**: Ett community-drivet projekt som tillhandahåller LEGO-bilder, vilket kan vara en idealisk resurs för detta projekt.\n",
    "4. **GitHub - Lego Detection**: Ett projekt inriktat på identifiering av LEGO-bitar, som kan erbjuda användbara data och eventuellt även tekniker för förbehandling och klassificering.\n",
    "\n",
    "#### Förberedelse och analys av data\n",
    "Arbetet med datan kommer att omfatta följande steg:\n",
    "\n",
    "- **Datainspektion**: Säkerställa att bilderna är av hög kvalitet och relevanta för klassificeringen av LEGO-bitar.\n",
    "- **Datarengöring**: Hantera problem som saknade data, felaktiga etiketter och outliers.\n",
    "- **Datatyper och format**: Standardisera bildformat och storlekar för enhetlig träning.\n",
    "- **Fältanvändning och numerisk konvertering**: Identifiera och konvertera relevanta metadatafält (t.ex. typ av LEGO-bit) till användbara format för maskininlärning.\n",
    "\n",
    "#### Modellering\n",
    "Projektet kommer att använda ett konvolutionellt neuralt nätverk (CNN) för att klassificera LEGO-bitar baserat på bilderna. Modellen kommer att tränas med en märkt dataset där varje bild tydligt identifierar typen av LEGO-bit, vilket gör detta till ett klassificeringsproblem.\n",
    "\n",
    "#### Plattform och verktyg\n",
    "Vi kommer att använda TensorFlow och Keras för att bygga och träna modellen på grund av deras robusta stöd för bildklassificering och användarvänliga gränssnitt. Utvecklingsprocessen kommer att dokumenteras i en Jupyter Notebook för att underlätta översyn från dataanalys till modellträning och validering.\n",
    "\n",
    "#### Dokumentation och nästa steg\n",
    "Detta dokument fungerar som en initial plan för projektet. Efter att lämpligt dataset har valts och en första analys har genomförts, kommer nästa fas att innefatta träning, validering och optimering av modellen.\n",
    "\n",
    "#### Användbara länkar\n",
    "\n",
    "1. [Kaggle - Biggest LEGO Dataset](https://www.kaggle.com/datasets/dreamfactor/biggest-lego-dataset-600-parts/data)\n",
    "2. [Kaggle - Images of LEGO bricks](https://www.kaggle.com/joosthazelzet/lego-brick-images)\n",
    "3. [GitHub - LEGO Challenge Dataset](https://github.com/LEGO-challenge/LEGO-dataset)\n",
    "4. [GitHub - Lego Detection](https://github.com/LegoSorter/LegoDetection)\n",
    "\n",
    "#### Tutorials och exempel på bildklassificering med TensorFlow och Keras:\n",
    "https://www.tensorflow.org/tutorials/images/classification\n",
    "\n"
   ]
  }
 ],
 "metadata": {
  "language_info": {
   "name": "python"
  }
 },
 "nbformat": 4,
 "nbformat_minor": 2
}
